{
 "cells": [
  {
   "cell_type": "code",
   "execution_count": 1,
   "metadata": {},
   "outputs": [],
   "source": [
    "import numpy as np\n",
    "import psutil"
   ]
  },
  {
   "cell_type": "code",
   "execution_count": 2,
   "metadata": {},
   "outputs": [],
   "source": [
    "# Function to print memory usage\n",
    "def print_memory_usage():\n",
    "    process = psutil.Process()\n",
    "    mem_info = process.memory_info()\n",
    "    print(f\"Memory Usage: {mem_info.rss / (1024 ** 2):.2f} MB\")\n"
   ]
  },
  {
   "cell_type": "code",
   "execution_count": null,
   "metadata": {},
   "outputs": [],
   "source": [
    "# Multiply two large matrices\n",
    "# FAILED if matrices too large and memory is not enough\n",
    "\n",
    "# A = np.random.rand(100000, 50)\n",
    "# B = np.random.rand(50, 100000)\n",
    "\n",
    "# # Standard multiplication\n",
    "# C = np.dot(A, B)  # Or A @ B\n",
    "\n",
    "# # Print the shape of the result\n",
    "# print(\"Shape of C:\", C.shape)\n",
    "\n",
    "# # Optionally, print a small part of the matrix\n",
    "# print(\"First 5x5 block of C:\\n\", C[:5, :5])"
   ]
  },
  {
   "cell_type": "code",
   "execution_count": null,
   "metadata": {},
   "outputs": [
    {
     "name": "stdout",
     "output_type": "stream",
     "text": [
      "Memory usage (init):\n",
      "Memory Usage: 99.39 MB\n",
      "Memory usage before multiplication:\n",
      "Memory Usage: 99.41 MB\n",
      "Memory usage after multiplication:\n",
      "Memory Usage: 3471.30 MB\n",
      "Shape of C: (100000, 100000)\n",
      "First 5x5 block of C:\n",
      " [[0.20294341 0.31546688 0.68615556 0.152865   0.65581053]\n",
      " [0.04588334 0.07132371 0.15513247 0.03456115 0.14827177]\n",
      " [0.08352435 0.12983505 0.28239745 0.06291384 0.2699085 ]\n",
      " [0.01826654 0.02839456 0.06175954 0.01375908 0.05902824]\n",
      " [0.07345313 0.11417976 0.24834643 0.0553278  0.23736338]]\n"
     ]
    }
   ],
   "source": [
    "# Use numpy.memmap for Disk-Based Computation\n",
    "# PERFECT METHOD FOR LOW MEMORY SYSTEMS\n",
    "import numpy as np\n",
    "\n",
    "print(\"Memory usage before multiplication:\")\n",
    "print_memory_usage()\n",
    "\n",
    "A = np.memmap('A.dat', dtype='float32', mode='w+', shape=(100000, 1))\n",
    "B = np.memmap('B.dat', dtype='float32', mode='w+', shape=(1, 100000))\n",
    "C = np.memmap('C.dat', dtype='float32', mode='w+', shape=(100000, 100000))\n",
    "\n",
    "# Fill A and B with random values (example)\n",
    "A[:] = np.random.rand(100000, 1)\n",
    "B[:] = np.random.rand(1, 100000)\n",
    "\n",
    "# Multiply in chunks\n",
    "for i in range(A.shape[0]):\n",
    "    C[i, :] = A[i, :] @ B  # Process row-by-row\n",
    "\n",
    "# Check memory usage after multiplication\n",
    "print(\"Memory usage after multiplication:\")\n",
    "print_memory_usage()\n",
    "\n",
    "# # Print the shape of the result\n",
    "print(\"Shape of C:\", C.shape)\n",
    "\n",
    "# # Optionally, print a small part of the matrix\n",
    "print(\"First 5x5 block of C:\\n\", C[:5, :5])"
   ]
  },
  {
   "cell_type": "code",
   "execution_count": 4,
   "metadata": {},
   "outputs": [
    {
     "name": "stdout",
     "output_type": "stream",
     "text": [
      "Memory usage after multiplication:\n",
      "Memory Usage: 1887.77 MB\n"
     ]
    }
   ],
   "source": [
    "print(\"Memory usage after multiplication:\")\n",
    "print_memory_usage()"
   ]
  },
  {
   "cell_type": "code",
   "execution_count": 3,
   "metadata": {},
   "outputs": [
    {
     "ename": "RuntimeError",
     "evalue": "Invalid buffer size: 37.25 GB",
     "output_type": "error",
     "traceback": [
      "\u001b[0;31m---------------------------------------------------------------------------\u001b[0m",
      "\u001b[0;31mRuntimeError\u001b[0m                              Traceback (most recent call last)",
      "Cell \u001b[0;32mIn[3], line 11\u001b[0m\n\u001b[1;32m      8\u001b[0m A \u001b[38;5;241m=\u001b[39m torch\u001b[38;5;241m.\u001b[39mrand(\u001b[38;5;241m100000\u001b[39m, \u001b[38;5;241m50\u001b[39m, device\u001b[38;5;241m=\u001b[39mdevice)\n\u001b[1;32m      9\u001b[0m B \u001b[38;5;241m=\u001b[39m torch\u001b[38;5;241m.\u001b[39mrand(\u001b[38;5;241m50\u001b[39m, \u001b[38;5;241m100000\u001b[39m, device\u001b[38;5;241m=\u001b[39mdevice)\n\u001b[0;32m---> 11\u001b[0m C \u001b[38;5;241m=\u001b[39m \u001b[43mtorch\u001b[49m\u001b[38;5;241;43m.\u001b[39;49m\u001b[43mmatmul\u001b[49m\u001b[43m(\u001b[49m\u001b[43mA\u001b[49m\u001b[43m,\u001b[49m\u001b[43m \u001b[49m\u001b[43mB\u001b[49m\u001b[43m)\u001b[49m\n",
      "\u001b[0;31mRuntimeError\u001b[0m: Invalid buffer size: 37.25 GB"
     ]
    }
   ],
   "source": [
    "# Matrix Multiplication with MPS\n",
    "\n",
    "import torch\n",
    "\n",
    "# Move tensors to GPU (MPS)\n",
    "device = torch.device(\"mps\")  # Use \"cpu\" if no GPU is available\n",
    "\n",
    "A = torch.rand(100000, 50, device=device)\n",
    "B = torch.rand(50, 100000, device=device)\n",
    "\n",
    "C = torch.matmul(A, B)  # GPU-accelerated matrix multiplication\n"
   ]
  },
  {
   "cell_type": "code",
   "execution_count": 2,
   "metadata": {},
   "outputs": [
    {
     "name": "stdout",
     "output_type": "stream",
     "text": [
      "Collecting cupy\n",
      "  Downloading cupy-13.3.0.tar.gz (3.4 MB)\n",
      "\u001b[2K     \u001b[90m━━━━━━━━━━━━━━━━━━━━━━━━━━━━━━━━━━━━━━━━\u001b[0m \u001b[32m3.4/3.4 MB\u001b[0m \u001b[31m7.7 MB/s\u001b[0m eta \u001b[36m0:00:00\u001b[0ma \u001b[36m0:00:01\u001b[0m\n",
      "\u001b[?25h  Preparing metadata (setup.py) ... \u001b[?25lerror\n",
      "  \u001b[1;31merror\u001b[0m: \u001b[1msubprocess-exited-with-error\u001b[0m\n",
      "  \n",
      "  \u001b[31m×\u001b[0m \u001b[32mpython setup.py egg_info\u001b[0m did not run successfully.\n",
      "  \u001b[31m│\u001b[0m exit code: \u001b[1;36m1\u001b[0m\n",
      "  \u001b[31m╰─>\u001b[0m \u001b[31m[3 lines of output]\u001b[0m\n",
      "  \u001b[31m   \u001b[0m Generating cache key from header files...\n",
      "  \u001b[31m   \u001b[0m Cache key (1610 files matching /private/var/folders/yr/qjfqfcxs79b91s4n4v1zp0b80000gn/T/pip-install-0wnzsiin/cupy_0de7c0e6b02d427da42326562bb7297e/cupy/_core/include/**): 5a9d2f850421ee67b5b715210ae3691771282212\n",
      "  \u001b[31m   \u001b[0m Error: macOS is no longer supported\n",
      "  \u001b[31m   \u001b[0m \u001b[31m[end of output]\u001b[0m\n",
      "  \n",
      "  \u001b[1;35mnote\u001b[0m: This error originates from a subprocess, and is likely not a problem with pip.\n",
      "\u001b[?25h\u001b[1;31merror\u001b[0m: \u001b[1mmetadata-generation-failed\u001b[0m\n",
      "\n",
      "\u001b[31m×\u001b[0m Encountered error while generating package metadata.\n",
      "\u001b[31m╰─>\u001b[0m See above for output.\n",
      "\n",
      "\u001b[1;35mnote\u001b[0m: This is an issue with the package mentioned above, not pip.\n",
      "\u001b[1;36mhint\u001b[0m: See above for details.\n"
     ]
    }
   ],
   "source": [
    "!pip install cupy"
   ]
  },
  {
   "cell_type": "code",
   "execution_count": null,
   "metadata": {},
   "outputs": [
    {
     "ename": "ModuleNotFoundError",
     "evalue": "No module named 'cupy'",
     "output_type": "error",
     "traceback": [
      "\u001b[0;31m---------------------------------------------------------------------------\u001b[0m",
      "\u001b[0;31mModuleNotFoundError\u001b[0m                       Traceback (most recent call last)",
      "Cell \u001b[0;32mIn[1], line 4\u001b[0m\n\u001b[1;32m      1\u001b[0m \u001b[38;5;66;03m# Use GPU Acceleration (cupy or torch.cuda)\u001b[39;00m\n\u001b[1;32m      2\u001b[0m \u001b[38;5;66;03m# If you have a GPU, cupy or torch.cuda can handle large matrices efficiently.\u001b[39;00m\n\u001b[0;32m----> 4\u001b[0m \u001b[38;5;28;01mimport\u001b[39;00m \u001b[38;5;21;01mcupy\u001b[39;00m \u001b[38;5;28;01mas\u001b[39;00m \u001b[38;5;21;01mcp\u001b[39;00m\n\u001b[1;32m      6\u001b[0m A \u001b[38;5;241m=\u001b[39m cp\u001b[38;5;241m.\u001b[39mrandom\u001b[38;5;241m.\u001b[39mrand(\u001b[38;5;241m100000\u001b[39m, \u001b[38;5;241m50\u001b[39m)\n\u001b[1;32m      7\u001b[0m B \u001b[38;5;241m=\u001b[39m cp\u001b[38;5;241m.\u001b[39mrandom\u001b[38;5;241m.\u001b[39mrand(\u001b[38;5;241m50\u001b[39m, \u001b[38;5;241m100000\u001b[39m)\n",
      "\u001b[0;31mModuleNotFoundError\u001b[0m: No module named 'cupy'"
     ]
    }
   ],
   "source": [
    "# Use GPU Acceleration (cupy or torch.cuda)\n",
    "# If you have a GPU, cupy or torch.cuda can handle large matrices efficiently.\n",
    "# CANNOT BE USED IN MACOSX\n",
    "\n",
    "import cupy as cp\n",
    "\n",
    "A = cp.random.rand(100000, 50)\n",
    "B = cp.random.rand(50, 100000)\n",
    "\n",
    "C = A @ B  # Performed on GPU\n"
   ]
  },
  {
   "cell_type": "code",
   "execution_count": 4,
   "metadata": {},
   "outputs": [
    {
     "ename": "",
     "evalue": "",
     "output_type": "error",
     "traceback": [
      "\u001b[1;31mThe Kernel crashed while executing code in the current cell or a previous cell. \n",
      "\u001b[1;31mPlease review the code in the cell(s) to identify a possible cause of the failure. \n",
      "\u001b[1;31mClick <a href='https://aka.ms/vscodeJupyterKernelCrash'>here</a> for more info. \n",
      "\u001b[1;31mView Jupyter <a href='command:jupyter.viewOutput'>log</a> for further details."
     ]
    }
   ],
   "source": [
    "# Use scipy.sparse for Sparse Matrices\n",
    "# If your matrices contain many zeros, use scipy.sparse:\n",
    "\n",
    "import numpy as np\n",
    "from scipy.sparse import csr_matrix\n",
    "\n",
    "A = csr_matrix(np.random.rand(100000, 50))\n",
    "B = csr_matrix(np.random.rand(50, 100000))\n",
    "\n",
    "C = A @ B  # Sparse multiplication, saving memory\n"
   ]
  },
  {
   "cell_type": "code",
   "execution_count": 2,
   "metadata": {},
   "outputs": [
    {
     "name": "stdout",
     "output_type": "stream",
     "text": [
      "Collecting dask\n",
      "  Downloading dask-2024.8.0-py3-none-any.whl.metadata (3.8 kB)\n",
      "Requirement already satisfied: click>=8.1 in /opt/anaconda3/envs/Python_3-9-19/lib/python3.9/site-packages (from dask) (8.1.7)\n",
      "Collecting cloudpickle>=1.5.0 (from dask)\n",
      "  Using cached cloudpickle-3.1.1-py3-none-any.whl.metadata (7.1 kB)\n",
      "Requirement already satisfied: fsspec>=2021.09.0 in /opt/anaconda3/envs/Python_3-9-19/lib/python3.9/site-packages (from dask) (2024.3.1)\n",
      "Requirement already satisfied: packaging>=20.0 in /opt/anaconda3/envs/Python_3-9-19/lib/python3.9/site-packages (from dask) (24.1)\n",
      "Collecting partd>=1.4.0 (from dask)\n",
      "  Downloading partd-1.4.2-py3-none-any.whl.metadata (4.6 kB)\n",
      "Requirement already satisfied: pyyaml>=5.3.1 in /opt/anaconda3/envs/Python_3-9-19/lib/python3.9/site-packages (from dask) (6.0.1)\n",
      "Collecting toolz>=0.10.0 (from dask)\n",
      "  Downloading toolz-1.0.0-py3-none-any.whl.metadata (5.1 kB)\n",
      "Requirement already satisfied: importlib-metadata>=4.13.0 in /opt/anaconda3/envs/Python_3-9-19/lib/python3.9/site-packages (from dask) (7.0.1)\n",
      "Requirement already satisfied: zipp>=0.5 in /opt/anaconda3/envs/Python_3-9-19/lib/python3.9/site-packages (from importlib-metadata>=4.13.0->dask) (3.17.0)\n",
      "Collecting locket (from partd>=1.4.0->dask)\n",
      "  Downloading locket-1.0.0-py2.py3-none-any.whl.metadata (2.8 kB)\n",
      "Downloading dask-2024.8.0-py3-none-any.whl (1.2 MB)\n",
      "\u001b[2K   \u001b[90m━━━━━━━━━━━━━━━━━━━━━━━━━━━━━━━━━━━━━━━━\u001b[0m \u001b[32m1.2/1.2 MB\u001b[0m \u001b[31m14.2 MB/s\u001b[0m eta \u001b[36m0:00:00\u001b[0ma \u001b[36m0:00:01\u001b[0m\n",
      "\u001b[?25hUsing cached cloudpickle-3.1.1-py3-none-any.whl (20 kB)\n",
      "Downloading partd-1.4.2-py3-none-any.whl (18 kB)\n",
      "Downloading toolz-1.0.0-py3-none-any.whl (56 kB)\n",
      "\u001b[2K   \u001b[90m━━━━━━━━━━━━━━━━━━━━━━━━━━━━━━━━━━━━━━━━\u001b[0m \u001b[32m56.4/56.4 kB\u001b[0m \u001b[31m6.2 MB/s\u001b[0m eta \u001b[36m0:00:00\u001b[0m\n",
      "\u001b[?25hDownloading locket-1.0.0-py2.py3-none-any.whl (4.4 kB)\n",
      "Installing collected packages: toolz, locket, cloudpickle, partd, dask\n",
      "Successfully installed cloudpickle-3.1.1 dask-2024.8.0 locket-1.0.0 partd-1.4.2 toolz-1.0.0\n"
     ]
    }
   ],
   "source": [
    "!pip install dask"
   ]
  },
  {
   "cell_type": "code",
   "execution_count": null,
   "metadata": {},
   "outputs": [
    {
     "name": "stderr",
     "output_type": "stream",
     "text": [
      "/opt/anaconda3/envs/Python_3-9-19/lib/python3.9/site-packages/dask/array/routines.py:450: PerformanceWarning: Increasing number of chunks by factor of 100\n",
      "  out = blockwise(\n"
     ]
    },
    {
     "ename": "",
     "evalue": "",
     "output_type": "error",
     "traceback": [
      "\u001b[1;31mThe Kernel crashed while executing code in the current cell or a previous cell. \n",
      "\u001b[1;31mPlease review the code in the cell(s) to identify a possible cause of the failure. \n",
      "\u001b[1;31mClick <a href='https://aka.ms/vscodeJupyterKernelCrash'>here</a> for more info. \n",
      "\u001b[1;31mView Jupyter <a href='command:jupyter.viewOutput'>log</a> for further details."
     ]
    }
   ],
   "source": [
    "# Use dask for Out-of-Core Computation\n",
    "# dask.array allows parallel and chunk-based computations.\n",
    "\n",
    "import dask.array as da\n",
    "\n",
    "A = da.random.random((100000, 50), chunks=(1000, 50))\n",
    "B = da.random.random((50, 100000), chunks=(50, 1000))\n",
    "\n",
    "C = A @ B  # Computation is lazy, not in memory yet\n",
    "C.compute()  # Compute when needed\n"
   ]
  },
  {
   "cell_type": "code",
   "execution_count": 1,
   "metadata": {},
   "outputs": [
    {
     "name": "stdout",
     "output_type": "stream",
     "text": [
      "Collecting jax\n",
      "  Downloading jax-0.4.30-py3-none-any.whl.metadata (22 kB)\n",
      "Collecting jaxlib<=0.4.30,>=0.4.27 (from jax)\n",
      "  Downloading jaxlib-0.4.30-cp39-cp39-macosx_11_0_arm64.whl.metadata (1.0 kB)\n",
      "Requirement already satisfied: ml-dtypes>=0.2.0 in /opt/anaconda3/envs/Python_3-9-19/lib/python3.9/site-packages (from jax) (0.4.0)\n",
      "Requirement already satisfied: numpy>=1.22 in /opt/anaconda3/envs/Python_3-9-19/lib/python3.9/site-packages (from jax) (1.26.4)\n",
      "Requirement already satisfied: opt-einsum in /opt/anaconda3/envs/Python_3-9-19/lib/python3.9/site-packages (from jax) (3.3.0)\n",
      "Requirement already satisfied: scipy>=1.9 in /opt/anaconda3/envs/Python_3-9-19/lib/python3.9/site-packages (from jax) (1.13.1)\n",
      "Requirement already satisfied: importlib-metadata>=4.6 in /opt/anaconda3/envs/Python_3-9-19/lib/python3.9/site-packages (from jax) (7.0.1)\n",
      "Requirement already satisfied: zipp>=0.5 in /opt/anaconda3/envs/Python_3-9-19/lib/python3.9/site-packages (from importlib-metadata>=4.6->jax) (3.17.0)\n",
      "Downloading jax-0.4.30-py3-none-any.whl (2.0 MB)\n",
      "\u001b[2K   \u001b[90m━━━━━━━━━━━━━━━━━━━━━━━━━━━━━━━━━━━━━━━━\u001b[0m \u001b[32m2.0/2.0 MB\u001b[0m \u001b[31m21.5 MB/s\u001b[0m eta \u001b[36m0:00:00\u001b[0ma \u001b[36m0:00:01\u001b[0m\n",
      "\u001b[?25hDownloading jaxlib-0.4.30-cp39-cp39-macosx_11_0_arm64.whl (66.7 MB)\n",
      "\u001b[2K   \u001b[90m━━━━━━━━━━━━━━━━━━━━━━━━━━━━━━━━━━━━━━━━\u001b[0m \u001b[32m66.7/66.7 MB\u001b[0m \u001b[31m33.4 MB/s\u001b[0m eta \u001b[36m0:00:00\u001b[0m00:01\u001b[0m00:01\u001b[0m\n",
      "\u001b[?25hInstalling collected packages: jaxlib, jax\n",
      "Successfully installed jax-0.4.30 jaxlib-0.4.30\n"
     ]
    }
   ],
   "source": [
    "!pip install jax"
   ]
  },
  {
   "cell_type": "code",
   "execution_count": 7,
   "metadata": {},
   "outputs": [
    {
     "ename": "",
     "evalue": "",
     "output_type": "error",
     "traceback": [
      "\u001b[1;31mThe Kernel crashed while executing code in the current cell or a previous cell. \n",
      "\u001b[1;31mPlease review the code in the cell(s) to identify a possible cause of the failure. \n",
      "\u001b[1;31mClick <a href='https://aka.ms/vscodeJupyterKernelCrash'>here</a> for more info. \n",
      "\u001b[1;31mView Jupyter <a href='command:jupyter.viewOutput'>log</a> for further details."
     ]
    }
   ],
   "source": [
    "import jax.numpy as jnp\n",
    "\n",
    "A = jnp.ones((100000, 10))\n",
    "B = jnp.ones((10, 100000))\n",
    "\n",
    "C = jnp.dot(A, B)  # Automatically optimized\n",
    "\n",
    "# # Print the shape of the result\n",
    "print(\"Shape of C:\", C.shape)\n",
    "\n",
    "# # Optionally, print a small part of the matrix\n",
    "print(\"First 5x5 block of C:\\n\", C[:5, :5])"
   ]
  },
  {
   "cell_type": "code",
   "execution_count": 2,
   "metadata": {},
   "outputs": [
    {
     "ename": "",
     "evalue": "",
     "output_type": "error",
     "traceback": [
      "\u001b[1;31mThe Kernel crashed while executing code in the current cell or a previous cell. \n",
      "\u001b[1;31mPlease review the code in the cell(s) to identify a possible cause of the failure. \n",
      "\u001b[1;31mClick <a href='https://aka.ms/vscodeJupyterKernelCrash'>here</a> for more info. \n",
      "\u001b[1;31mView Jupyter <a href='command:jupyter.viewOutput'>log</a> for further details."
     ]
    }
   ],
   "source": [
    "import tensorflow as tf\n",
    "\n",
    "A = tf.random.normal([100000, 10])\n",
    "B = tf.random.normal([10, 100000])\n",
    "\n",
    "C = tf.linalg.matmul(A, B)  # GPU-accelerated\n",
    "\n",
    "# # Print the shape of the result\n",
    "print(\"Shape of C:\", C.shape)\n",
    "\n",
    "# # Optionally, print a small part of the matrix\n",
    "print(\"First 5x5 block of C:\\n\", C[:5, :5])"
   ]
  },
  {
   "cell_type": "code",
   "execution_count": null,
   "metadata": {},
   "outputs": [],
   "source": [
    "import pyopencl as cl\n",
    "import numpy as np\n",
    "\n",
    "ctx = cl.create_some_context()\n",
    "queue = cl.CommandQueue(ctx)\n",
    "\n",
    "A = np.random.rand(10000, 5000).astype(np.float32)\n",
    "B = np.random.rand(5000, 8000).astype(np.float32)\n",
    "\n",
    "# Transfer data to the GPU\n",
    "A_buf = cl.Buffer(ctx, cl.mem_flags.READ_ONLY | cl.mem_flags.COPY_HOST_PTR, hostbuf=A)\n",
    "B_buf = cl.Buffer(ctx, cl.mem_flags.READ_ONLY | cl.mem_flags.COPY_HOST_PTR, hostbuf=B)\n",
    "C_buf = cl.Buffer(ctx, cl.mem_flags.WRITE_ONLY, A.nbytes * B.shape[1])\n",
    "\n",
    "# OpenCL kernel for matrix multiplication (requires setup)\n",
    "# You'd need to write a kernel function to compute the matrix product.\n",
    "\n"
   ]
  }
 ],
 "metadata": {
  "kernelspec": {
   "display_name": "Python_3-9-19",
   "language": "python",
   "name": "python3"
  },
  "language_info": {
   "codemirror_mode": {
    "name": "ipython",
    "version": 3
   },
   "file_extension": ".py",
   "mimetype": "text/x-python",
   "name": "python",
   "nbconvert_exporter": "python",
   "pygments_lexer": "ipython3",
   "version": "3.9.19"
  }
 },
 "nbformat": 4,
 "nbformat_minor": 2
}
